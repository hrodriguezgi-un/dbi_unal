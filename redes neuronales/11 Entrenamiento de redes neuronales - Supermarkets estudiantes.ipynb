{
 "cells": [
  {
   "cell_type": "markdown",
   "metadata": {},
   "source": [
    "# Entrenamiento de redes neuronales en Python"
   ]
  },
  {
   "cell_type": "markdown",
   "metadata": {},
   "source": [
    "En este ejercicio se entrena una red neuronal. Se trabajará con una base de datos de transacciones de un supermercado, con el objetivo de pronosticar el revenue de una transacción como función de distintas variables recopiladas."
   ]
  },
  {
   "cell_type": "markdown",
   "metadata": {},
   "source": [
    "Importar librerias"
   ]
  },
  {
   "cell_type": "code",
   "execution_count": 1,
   "metadata": {},
   "outputs": [],
   "source": [
    "import pandas as pd\n",
    "import numpy as np\n",
    "from sklearn.preprocessing import StandardScaler\n",
    "from sklearn.neural_network import MLPRegressor\n"
   ]
  },
  {
   "cell_type": "markdown",
   "metadata": {},
   "source": [
    "# Información de utilidad en la implementación del método MLP\n",
    "\n",
    "**MLPRegressor:** implementa un perceptrón multicapa (MLP) que entrena iterativamente usando la propagación hacia atrás sin función de activación en la capa de salida, que también puede verse como la función de identidad como función de activación. Por lo tanto, utiliza el error cuadrado como la función de pérdida, y la salida es un conjunto de valores continuos. MLPRegressor también admite la regresión de múltiples salidas, en la que una\n",
    "muestra puede tener más de un objetivo. \n",
    "\n",
    "El parámetro alpha se usa como término de regularización (regularización L2) que ayuda a evitar el sobreajuste al penalizar pesos con grandes magnitudes."
   ]
  },
  {
   "cell_type": "markdown",
   "metadata": {},
   "source": [
    "Lectura de datos"
   ]
  },
  {
   "cell_type": "code",
   "execution_count": 3,
   "metadata": {},
   "outputs": [
    {
     "data": {
      "text/html": [
       "<div>\n",
       "<style scoped>\n",
       "    .dataframe tbody tr th:only-of-type {\n",
       "        vertical-align: middle;\n",
       "    }\n",
       "\n",
       "    .dataframe tbody tr th {\n",
       "        vertical-align: top;\n",
       "    }\n",
       "\n",
       "    .dataframe thead th {\n",
       "        text-align: right;\n",
       "    }\n",
       "</style>\n",
       "<table border=\"1\" class=\"dataframe\">\n",
       "  <thead>\n",
       "    <tr style=\"text-align: right;\">\n",
       "      <th></th>\n",
       "      <th>Transaction</th>\n",
       "      <th>Purchase Date</th>\n",
       "      <th>Customer ID</th>\n",
       "      <th>Gender</th>\n",
       "      <th>Marital Status</th>\n",
       "      <th>Homeowner</th>\n",
       "      <th>Children</th>\n",
       "      <th>Annual Income</th>\n",
       "      <th>City</th>\n",
       "      <th>State or Province</th>\n",
       "      <th>Country</th>\n",
       "      <th>Product Family</th>\n",
       "      <th>Product Department</th>\n",
       "      <th>Product Category</th>\n",
       "      <th>Units Sold</th>\n",
       "      <th>Revenue</th>\n",
       "    </tr>\n",
       "  </thead>\n",
       "  <tbody>\n",
       "    <tr>\n",
       "      <th>0</th>\n",
       "      <td>1</td>\n",
       "      <td>18/12/2011</td>\n",
       "      <td>7223</td>\n",
       "      <td>F</td>\n",
       "      <td>S</td>\n",
       "      <td>Y</td>\n",
       "      <td>2</td>\n",
       "      <td>30K - 50K</td>\n",
       "      <td>Los Angeles</td>\n",
       "      <td>CA</td>\n",
       "      <td>USA</td>\n",
       "      <td>Food</td>\n",
       "      <td>Snack Foods</td>\n",
       "      <td>Snack Foods</td>\n",
       "      <td>5</td>\n",
       "      <td>27.38</td>\n",
       "    </tr>\n",
       "    <tr>\n",
       "      <th>1</th>\n",
       "      <td>2</td>\n",
       "      <td>20/12/2011</td>\n",
       "      <td>7841</td>\n",
       "      <td>M</td>\n",
       "      <td>M</td>\n",
       "      <td>Y</td>\n",
       "      <td>5</td>\n",
       "      <td>70K - 90K</td>\n",
       "      <td>Los Angeles</td>\n",
       "      <td>CA</td>\n",
       "      <td>USA</td>\n",
       "      <td>Food</td>\n",
       "      <td>Produce</td>\n",
       "      <td>Vegetables</td>\n",
       "      <td>5</td>\n",
       "      <td>14.90</td>\n",
       "    </tr>\n",
       "    <tr>\n",
       "      <th>2</th>\n",
       "      <td>3</td>\n",
       "      <td>21/12/2011</td>\n",
       "      <td>8374</td>\n",
       "      <td>F</td>\n",
       "      <td>M</td>\n",
       "      <td>N</td>\n",
       "      <td>2</td>\n",
       "      <td>50K - 70K</td>\n",
       "      <td>Bremerton</td>\n",
       "      <td>WA</td>\n",
       "      <td>USA</td>\n",
       "      <td>Food</td>\n",
       "      <td>Snack Foods</td>\n",
       "      <td>Snack Foods</td>\n",
       "      <td>3</td>\n",
       "      <td>5.52</td>\n",
       "    </tr>\n",
       "    <tr>\n",
       "      <th>3</th>\n",
       "      <td>4</td>\n",
       "      <td>21/12/2011</td>\n",
       "      <td>9619</td>\n",
       "      <td>M</td>\n",
       "      <td>M</td>\n",
       "      <td>Y</td>\n",
       "      <td>3</td>\n",
       "      <td>30K - 50K</td>\n",
       "      <td>Portland</td>\n",
       "      <td>OR</td>\n",
       "      <td>USA</td>\n",
       "      <td>Food</td>\n",
       "      <td>Snacks</td>\n",
       "      <td>Candy</td>\n",
       "      <td>4</td>\n",
       "      <td>4.44</td>\n",
       "    </tr>\n",
       "    <tr>\n",
       "      <th>4</th>\n",
       "      <td>5</td>\n",
       "      <td>22/12/2011</td>\n",
       "      <td>1900</td>\n",
       "      <td>F</td>\n",
       "      <td>S</td>\n",
       "      <td>Y</td>\n",
       "      <td>3</td>\n",
       "      <td>130K - 150K</td>\n",
       "      <td>Beverly Hills</td>\n",
       "      <td>CA</td>\n",
       "      <td>USA</td>\n",
       "      <td>Drink</td>\n",
       "      <td>Beverages</td>\n",
       "      <td>Carbonated Beverages</td>\n",
       "      <td>4</td>\n",
       "      <td>14.00</td>\n",
       "    </tr>\n",
       "  </tbody>\n",
       "</table>\n",
       "</div>"
      ],
      "text/plain": [
       "   Transaction Purchase Date  Customer ID Gender Marital Status Homeowner  \\\n",
       "0            1    18/12/2011         7223      F              S         Y   \n",
       "1            2    20/12/2011         7841      M              M         Y   \n",
       "2            3    21/12/2011         8374      F              M         N   \n",
       "3            4    21/12/2011         9619      M              M         Y   \n",
       "4            5    22/12/2011         1900      F              S         Y   \n",
       "\n",
       "   Children Annual Income           City State or Province Country  \\\n",
       "0         2     30K - 50K    Los Angeles                CA     USA   \n",
       "1         5     70K - 90K    Los Angeles                CA     USA   \n",
       "2         2     50K - 70K      Bremerton                WA     USA   \n",
       "3         3     30K - 50K       Portland                OR     USA   \n",
       "4         3   130K - 150K  Beverly Hills                CA     USA   \n",
       "\n",
       "  Product Family Product Department      Product Category  Units Sold  Revenue  \n",
       "0           Food        Snack Foods           Snack Foods           5    27.38  \n",
       "1           Food            Produce            Vegetables           5    14.90  \n",
       "2           Food        Snack Foods           Snack Foods           3     5.52  \n",
       "3           Food             Snacks                 Candy           4     4.44  \n",
       "4          Drink          Beverages  Carbonated Beverages           4    14.00  "
      ]
     },
     "execution_count": 3,
     "metadata": {},
     "output_type": "execute_result"
    }
   ],
   "source": [
    "# Leer datos de discriminación salarial\n",
    "datos = pd.read_csv('Supermarket Transactions.csv')\n",
    "# Visualización\n",
    "datos.head()\n"
   ]
  },
  {
   "cell_type": "code",
   "execution_count": 5,
   "metadata": {},
   "outputs": [
    {
     "data": {
      "text/html": [
       "<div>\n",
       "<style scoped>\n",
       "    .dataframe tbody tr th:only-of-type {\n",
       "        vertical-align: middle;\n",
       "    }\n",
       "\n",
       "    .dataframe tbody tr th {\n",
       "        vertical-align: top;\n",
       "    }\n",
       "\n",
       "    .dataframe thead th {\n",
       "        text-align: right;\n",
       "    }\n",
       "</style>\n",
       "<table border=\"1\" class=\"dataframe\">\n",
       "  <thead>\n",
       "    <tr style=\"text-align: right;\">\n",
       "      <th></th>\n",
       "      <th>Transaction</th>\n",
       "      <th>Customer ID</th>\n",
       "      <th>Children</th>\n",
       "      <th>Units Sold</th>\n",
       "      <th>Revenue</th>\n",
       "    </tr>\n",
       "  </thead>\n",
       "  <tbody>\n",
       "    <tr>\n",
       "      <th>count</th>\n",
       "      <td>14059.000000</td>\n",
       "      <td>14059.000000</td>\n",
       "      <td>14059.000000</td>\n",
       "      <td>14059.000000</td>\n",
       "      <td>14059.000000</td>\n",
       "    </tr>\n",
       "    <tr>\n",
       "      <th>mean</th>\n",
       "      <td>7030.000000</td>\n",
       "      <td>5116.902127</td>\n",
       "      <td>2.530336</td>\n",
       "      <td>4.080589</td>\n",
       "      <td>13.004512</td>\n",
       "    </tr>\n",
       "    <tr>\n",
       "      <th>std</th>\n",
       "      <td>4058.628052</td>\n",
       "      <td>2920.755202</td>\n",
       "      <td>1.491852</td>\n",
       "      <td>1.174421</td>\n",
       "      <td>8.215543</td>\n",
       "    </tr>\n",
       "    <tr>\n",
       "      <th>min</th>\n",
       "      <td>1.000000</td>\n",
       "      <td>3.000000</td>\n",
       "      <td>0.000000</td>\n",
       "      <td>1.000000</td>\n",
       "      <td>0.530000</td>\n",
       "    </tr>\n",
       "    <tr>\n",
       "      <th>25%</th>\n",
       "      <td>3515.500000</td>\n",
       "      <td>2549.000000</td>\n",
       "      <td>1.000000</td>\n",
       "      <td>3.000000</td>\n",
       "      <td>6.840000</td>\n",
       "    </tr>\n",
       "    <tr>\n",
       "      <th>50%</th>\n",
       "      <td>7030.000000</td>\n",
       "      <td>5060.000000</td>\n",
       "      <td>3.000000</td>\n",
       "      <td>4.000000</td>\n",
       "      <td>11.250000</td>\n",
       "    </tr>\n",
       "    <tr>\n",
       "      <th>75%</th>\n",
       "      <td>10544.500000</td>\n",
       "      <td>7633.000000</td>\n",
       "      <td>4.000000</td>\n",
       "      <td>5.000000</td>\n",
       "      <td>17.370000</td>\n",
       "    </tr>\n",
       "    <tr>\n",
       "      <th>max</th>\n",
       "      <td>14059.000000</td>\n",
       "      <td>10280.000000</td>\n",
       "      <td>5.000000</td>\n",
       "      <td>8.000000</td>\n",
       "      <td>56.700000</td>\n",
       "    </tr>\n",
       "  </tbody>\n",
       "</table>\n",
       "</div>"
      ],
      "text/plain": [
       "        Transaction   Customer ID      Children    Units Sold       Revenue\n",
       "count  14059.000000  14059.000000  14059.000000  14059.000000  14059.000000\n",
       "mean    7030.000000   5116.902127      2.530336      4.080589     13.004512\n",
       "std     4058.628052   2920.755202      1.491852      1.174421      8.215543\n",
       "min        1.000000      3.000000      0.000000      1.000000      0.530000\n",
       "25%     3515.500000   2549.000000      1.000000      3.000000      6.840000\n",
       "50%     7030.000000   5060.000000      3.000000      4.000000     11.250000\n",
       "75%    10544.500000   7633.000000      4.000000      5.000000     17.370000\n",
       "max    14059.000000  10280.000000      5.000000      8.000000     56.700000"
      ]
     },
     "execution_count": 5,
     "metadata": {},
     "output_type": "execute_result"
    }
   ],
   "source": [
    "# Describir los datos\n",
    "datos.describe()\n"
   ]
  },
  {
   "cell_type": "markdown",
   "metadata": {},
   "source": [
    "Definimos y para todos los modelos como Revenue"
   ]
  },
  {
   "cell_type": "code",
   "execution_count": 7,
   "metadata": {},
   "outputs": [
    {
     "data": {
      "text/plain": [
       "array([[27.38],\n",
       "       [14.9 ],\n",
       "       [ 5.52],\n",
       "       ...,\n",
       "       [ 3.24],\n",
       "       [ 4.  ],\n",
       "       [25.53]])"
      ]
     },
     "execution_count": 7,
     "metadata": {},
     "output_type": "execute_result"
    }
   ],
   "source": [
    "# Fijar el revenue como \"y\" y como un vector\n",
    "y = datos['Revenue'].values\n",
    "# Aplicar el comando reshape\n",
    "y = y.reshape(-1, 1)\n",
    "# Imprimamos y\n",
    "y\n"
   ]
  },
  {
   "cell_type": "markdown",
   "metadata": {},
   "source": [
    "Escalado de y"
   ]
  },
  {
   "cell_type": "markdown",
   "metadata": {},
   "source": [
    "Para los modelos de aprendizaje, es ampliamente sugerido trabajar con datos en la misma escala. Usaremos StandardScaler para esto."
   ]
  },
  {
   "cell_type": "code",
   "execution_count": 8,
   "metadata": {},
   "outputs": [
    {
     "data": {
      "text/plain": [
       "array([[ 1.74985379],\n",
       "       [ 0.23072798],\n",
       "       [-0.91105087],\n",
       "       ...,\n",
       "       [-1.18858348],\n",
       "       [-1.09607261],\n",
       "       [ 1.52466287]])"
      ]
     },
     "execution_count": 8,
     "metadata": {},
     "output_type": "execute_result"
    }
   ],
   "source": [
    "# Crear el objeto\n",
    "sc_y = StandardScaler()\n",
    "# Aplicar el escalado\n",
    "y = sc_y.fit_transform(y)\n",
    "# Ver los resultados\n",
    "y\n"
   ]
  },
  {
   "cell_type": "markdown",
   "metadata": {},
   "source": [
    "Modelo 1: Revenue vs. Children y Units sold"
   ]
  },
  {
   "cell_type": "code",
   "execution_count": 10,
   "metadata": {},
   "outputs": [
    {
     "data": {
      "text/html": [
       "<div>\n",
       "<style scoped>\n",
       "    .dataframe tbody tr th:only-of-type {\n",
       "        vertical-align: middle;\n",
       "    }\n",
       "\n",
       "    .dataframe tbody tr th {\n",
       "        vertical-align: top;\n",
       "    }\n",
       "\n",
       "    .dataframe thead th {\n",
       "        text-align: right;\n",
       "    }\n",
       "</style>\n",
       "<table border=\"1\" class=\"dataframe\">\n",
       "  <thead>\n",
       "    <tr style=\"text-align: right;\">\n",
       "      <th></th>\n",
       "      <th>Children</th>\n",
       "      <th>Units Sold</th>\n",
       "    </tr>\n",
       "  </thead>\n",
       "  <tbody>\n",
       "    <tr>\n",
       "      <th>0</th>\n",
       "      <td>2</td>\n",
       "      <td>5</td>\n",
       "    </tr>\n",
       "    <tr>\n",
       "      <th>1</th>\n",
       "      <td>5</td>\n",
       "      <td>5</td>\n",
       "    </tr>\n",
       "    <tr>\n",
       "      <th>2</th>\n",
       "      <td>2</td>\n",
       "      <td>3</td>\n",
       "    </tr>\n",
       "    <tr>\n",
       "      <th>3</th>\n",
       "      <td>3</td>\n",
       "      <td>4</td>\n",
       "    </tr>\n",
       "    <tr>\n",
       "      <th>4</th>\n",
       "      <td>3</td>\n",
       "      <td>4</td>\n",
       "    </tr>\n",
       "    <tr>\n",
       "      <th>...</th>\n",
       "      <td>...</td>\n",
       "      <td>...</td>\n",
       "    </tr>\n",
       "    <tr>\n",
       "      <th>14054</th>\n",
       "      <td>2</td>\n",
       "      <td>3</td>\n",
       "    </tr>\n",
       "    <tr>\n",
       "      <th>14055</th>\n",
       "      <td>3</td>\n",
       "      <td>3</td>\n",
       "    </tr>\n",
       "    <tr>\n",
       "      <th>14056</th>\n",
       "      <td>1</td>\n",
       "      <td>4</td>\n",
       "    </tr>\n",
       "    <tr>\n",
       "      <th>14057</th>\n",
       "      <td>4</td>\n",
       "      <td>2</td>\n",
       "    </tr>\n",
       "    <tr>\n",
       "      <th>14058</th>\n",
       "      <td>3</td>\n",
       "      <td>5</td>\n",
       "    </tr>\n",
       "  </tbody>\n",
       "</table>\n",
       "<p>14059 rows × 2 columns</p>\n",
       "</div>"
      ],
      "text/plain": [
       "       Children  Units Sold\n",
       "0             2           5\n",
       "1             5           5\n",
       "2             2           3\n",
       "3             3           4\n",
       "4             3           4\n",
       "...         ...         ...\n",
       "14054         2           3\n",
       "14055         3           3\n",
       "14056         1           4\n",
       "14057         4           2\n",
       "14058         3           5\n",
       "\n",
       "[14059 rows x 2 columns]"
      ]
     },
     "execution_count": 10,
     "metadata": {},
     "output_type": "execute_result"
    }
   ],
   "source": [
    "# Asignar variable de entrada X1X2 para entrenamiento (recuerde que ya se asignó y antes)\n",
    "X1X2 = datos[['Children', 'Units Sold']]\n",
    "# Imprimir X1X2\n",
    "X1X2\n"
   ]
  },
  {
   "cell_type": "markdown",
   "metadata": {},
   "source": [
    "Escalado de variables"
   ]
  },
  {
   "cell_type": "code",
   "execution_count": 11,
   "metadata": {},
   "outputs": [
    {
     "data": {
      "text/plain": [
       "array([[-0.35550122,  0.78289131],\n",
       "       [ 1.65549326,  0.78289131],\n",
       "       [-0.35550122, -0.92013653],\n",
       "       ...,\n",
       "       [-1.02583271, -0.06862261],\n",
       "       [ 0.98516177, -1.77165045],\n",
       "       [ 0.31483027,  0.78289131]])"
      ]
     },
     "execution_count": 11,
     "metadata": {},
     "output_type": "execute_result"
    }
   ],
   "source": [
    "# Crear el objeto\n",
    "sc_X1X2 = StandardScaler()\n",
    "# Aplicar el escalado\n",
    "X1X2 = sc_X1X2.fit_transform(X1X2)\n",
    "# Ver los resultados\n",
    "X1X2\n"
   ]
  },
  {
   "cell_type": "markdown",
   "metadata": {},
   "source": [
    "Algoritmo iterativo del modelo 1"
   ]
  },
  {
   "cell_type": "code",
   "execution_count": 12,
   "metadata": {},
   "outputs": [
    {
     "name": "stderr",
     "output_type": "stream",
     "text": [
      "/Users/hrodriguez/opt/anaconda3/lib/python3.8/site-packages/sklearn/utils/validation.py:63: DataConversionWarning: A column-vector y was passed when a 1d array was expected. Please change the shape of y to (n_samples, ), for example using ravel().\n",
      "  return f(*args, **kwargs)\n"
     ]
    },
    {
     "data": {
      "text/plain": [
       "0.09267000917796109"
      ]
     },
     "execution_count": 12,
     "metadata": {},
     "output_type": "execute_result"
    }
   ],
   "source": [
    "# Creamos el objeto de regresión multicapa\n",
    "MLR = MLPRegressor(solver='lbfgs', alpha=1e-5, hidden_layer_sizes=(3, 3))\n",
    "# Entrenamos el modelo\n",
    "MLR.fit(X1X2, y)\n",
    "# Calculamos el score\n",
    "score1 = MLR.score(X1X2, y)\n",
    "# Imprimimos el score\n",
    "score1"
   ]
  },
  {
   "cell_type": "markdown",
   "metadata": {},
   "source": [
    "Modelo 2: Revenue vs. Children, Units Sold, Transaction y Customer ID"
   ]
  },
  {
   "cell_type": "code",
   "execution_count": 13,
   "metadata": {},
   "outputs": [
    {
     "data": {
      "text/html": [
       "<div>\n",
       "<style scoped>\n",
       "    .dataframe tbody tr th:only-of-type {\n",
       "        vertical-align: middle;\n",
       "    }\n",
       "\n",
       "    .dataframe tbody tr th {\n",
       "        vertical-align: top;\n",
       "    }\n",
       "\n",
       "    .dataframe thead th {\n",
       "        text-align: right;\n",
       "    }\n",
       "</style>\n",
       "<table border=\"1\" class=\"dataframe\">\n",
       "  <thead>\n",
       "    <tr style=\"text-align: right;\">\n",
       "      <th></th>\n",
       "      <th>Children</th>\n",
       "      <th>Units Sold</th>\n",
       "      <th>Transaction</th>\n",
       "      <th>Customer ID</th>\n",
       "    </tr>\n",
       "  </thead>\n",
       "  <tbody>\n",
       "    <tr>\n",
       "      <th>0</th>\n",
       "      <td>2</td>\n",
       "      <td>5</td>\n",
       "      <td>1</td>\n",
       "      <td>7223</td>\n",
       "    </tr>\n",
       "    <tr>\n",
       "      <th>1</th>\n",
       "      <td>5</td>\n",
       "      <td>5</td>\n",
       "      <td>2</td>\n",
       "      <td>7841</td>\n",
       "    </tr>\n",
       "    <tr>\n",
       "      <th>2</th>\n",
       "      <td>2</td>\n",
       "      <td>3</td>\n",
       "      <td>3</td>\n",
       "      <td>8374</td>\n",
       "    </tr>\n",
       "    <tr>\n",
       "      <th>3</th>\n",
       "      <td>3</td>\n",
       "      <td>4</td>\n",
       "      <td>4</td>\n",
       "      <td>9619</td>\n",
       "    </tr>\n",
       "    <tr>\n",
       "      <th>4</th>\n",
       "      <td>3</td>\n",
       "      <td>4</td>\n",
       "      <td>5</td>\n",
       "      <td>1900</td>\n",
       "    </tr>\n",
       "    <tr>\n",
       "      <th>...</th>\n",
       "      <td>...</td>\n",
       "      <td>...</td>\n",
       "      <td>...</td>\n",
       "      <td>...</td>\n",
       "    </tr>\n",
       "    <tr>\n",
       "      <th>14054</th>\n",
       "      <td>2</td>\n",
       "      <td>3</td>\n",
       "      <td>14055</td>\n",
       "      <td>9102</td>\n",
       "    </tr>\n",
       "    <tr>\n",
       "      <th>14055</th>\n",
       "      <td>3</td>\n",
       "      <td>3</td>\n",
       "      <td>14056</td>\n",
       "      <td>4822</td>\n",
       "    </tr>\n",
       "    <tr>\n",
       "      <th>14056</th>\n",
       "      <td>1</td>\n",
       "      <td>4</td>\n",
       "      <td>14057</td>\n",
       "      <td>250</td>\n",
       "    </tr>\n",
       "    <tr>\n",
       "      <th>14057</th>\n",
       "      <td>4</td>\n",
       "      <td>2</td>\n",
       "      <td>14058</td>\n",
       "      <td>6153</td>\n",
       "    </tr>\n",
       "    <tr>\n",
       "      <th>14058</th>\n",
       "      <td>3</td>\n",
       "      <td>5</td>\n",
       "      <td>14059</td>\n",
       "      <td>3656</td>\n",
       "    </tr>\n",
       "  </tbody>\n",
       "</table>\n",
       "<p>14059 rows × 4 columns</p>\n",
       "</div>"
      ],
      "text/plain": [
       "       Children  Units Sold  Transaction  Customer ID\n",
       "0             2           5            1         7223\n",
       "1             5           5            2         7841\n",
       "2             2           3            3         8374\n",
       "3             3           4            4         9619\n",
       "4             3           4            5         1900\n",
       "...         ...         ...          ...          ...\n",
       "14054         2           3        14055         9102\n",
       "14055         3           3        14056         4822\n",
       "14056         1           4        14057          250\n",
       "14057         4           2        14058         6153\n",
       "14058         3           5        14059         3656\n",
       "\n",
       "[14059 rows x 4 columns]"
      ]
     },
     "execution_count": 13,
     "metadata": {},
     "output_type": "execute_result"
    }
   ],
   "source": [
    "# Asignar variable de entrada X1X2X3X4 para entrenamiento, considerando Children,Units Sold,Transaction, Customer ID\n",
    "X1X2X3X4 = datos[['Children', 'Units Sold', 'Transaction', 'Customer ID']]\n",
    "# Imprimir X1X2X3X4\n",
    "X1X2X3X4"
   ]
  },
  {
   "cell_type": "markdown",
   "metadata": {},
   "source": [
    "Escalado de variables"
   ]
  },
  {
   "cell_type": "code",
   "execution_count": 14,
   "metadata": {},
   "outputs": [
    {
     "data": {
      "text/plain": [
       "array([[-0.35550122,  0.78289131, -1.73192761,  0.72110555],\n",
       "       [ 1.65549326,  0.78289131, -1.73168122,  0.93270219],\n",
       "       [-0.35550122, -0.92013653, -1.73143482,  1.11519573],\n",
       "       ...,\n",
       "       [-1.02583271, -0.06862261,  1.73143482, -1.66637561],\n",
       "       [ 0.98516177, -1.77165045,  1.73168122,  0.35474891],\n",
       "       [ 0.31483027,  0.78289131,  1.73192761, -0.50019738]])"
      ]
     },
     "execution_count": 14,
     "metadata": {},
     "output_type": "execute_result"
    }
   ],
   "source": [
    "# Crear el objeto\n",
    "sc_X1X2X3X4 = StandardScaler()\n",
    "# Aplicar el escalado\n",
    "X1X2X3X4 = sc_X1X2X3X4.fit_transform(X1X2X3X4)\n",
    "# Ver los resultados\n",
    "X1X2X3X4\n"
   ]
  },
  {
   "cell_type": "markdown",
   "metadata": {},
   "source": [
    "Algoritmo iterativo del modelo 2"
   ]
  },
  {
   "cell_type": "code",
   "execution_count": 15,
   "metadata": {},
   "outputs": [
    {
     "name": "stderr",
     "output_type": "stream",
     "text": [
      "/Users/hrodriguez/opt/anaconda3/lib/python3.8/site-packages/sklearn/utils/validation.py:63: DataConversionWarning: A column-vector y was passed when a 1d array was expected. Please change the shape of y to (n_samples, ), for example using ravel().\n",
      "  return f(*args, **kwargs)\n"
     ]
    },
    {
     "data": {
      "text/plain": [
       "0.09139611839440498"
      ]
     },
     "execution_count": 15,
     "metadata": {},
     "output_type": "execute_result"
    }
   ],
   "source": [
    "# Creamos el objeto de regresión multicapa\n",
    "MLR = MLPRegressor(solver='lbfgs', alpha=1e-5, hidden_layer_sizes=(3, 3))\n",
    "# Entrenamos el modelo\n",
    "MLR.fit(X1X2X3X4, y)\n",
    "# Calculamos el score\n",
    "score2 = MLR.score(X1X2X3X4, y)\n",
    "# Imprimimos el score\n",
    "score2"
   ]
  }
 ],
 "metadata": {
  "kernelspec": {
   "display_name": "Python 3 (ipykernel)",
   "language": "python",
   "name": "python3"
  },
  "language_info": {
   "codemirror_mode": {
    "name": "ipython",
    "version": 3
   },
   "file_extension": ".py",
   "mimetype": "text/x-python",
   "name": "python",
   "nbconvert_exporter": "python",
   "pygments_lexer": "ipython3",
   "version": "3.8.5"
  }
 },
 "nbformat": 4,
 "nbformat_minor": 4
}
