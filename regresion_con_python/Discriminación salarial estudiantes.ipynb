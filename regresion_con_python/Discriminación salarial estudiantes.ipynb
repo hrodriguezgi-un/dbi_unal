{
 "cells": [
  {
   "cell_type": "markdown",
   "metadata": {},
   "source": [
    "## Importar librerias"
   ]
  },
  {
   "cell_type": "code",
   "execution_count": 1,
   "metadata": {},
   "outputs": [],
   "source": [
    "import pandas as pd\n",
    "import numpy as np \n",
    "from sklearn.linear_model import LinearRegression\n",
    "from sklearn.metrics import mean_squared_error, r2_score"
   ]
  },
  {
   "cell_type": "code",
   "execution_count": 2,
   "metadata": {},
   "outputs": [],
   "source": [
    "#Leer datos\n",
    "datos = pd.read_csv('Discriminacionsalarial.csv')"
   ]
  },
  {
   "cell_type": "code",
   "execution_count": 3,
   "metadata": {},
   "outputs": [
    {
     "data": {
      "text/html": [
       "<div>\n",
       "<style scoped>\n",
       "    .dataframe tbody tr th:only-of-type {\n",
       "        vertical-align: middle;\n",
       "    }\n",
       "\n",
       "    .dataframe tbody tr th {\n",
       "        vertical-align: top;\n",
       "    }\n",
       "\n",
       "    .dataframe thead th {\n",
       "        text-align: right;\n",
       "    }\n",
       "</style>\n",
       "<table border=\"1\" class=\"dataframe\">\n",
       "  <thead>\n",
       "    <tr style=\"text-align: right;\">\n",
       "      <th></th>\n",
       "      <th>Empleado</th>\n",
       "      <th>Genero</th>\n",
       "      <th>Experiencia previa</th>\n",
       "      <th>Experiencia en la empresa</th>\n",
       "      <th>Nivel educativo</th>\n",
       "      <th>Salario anual</th>\n",
       "    </tr>\n",
       "  </thead>\n",
       "  <tbody>\n",
       "    <tr>\n",
       "      <th>0</th>\n",
       "      <td>1</td>\n",
       "      <td>1</td>\n",
       "      <td>5</td>\n",
       "      <td>12</td>\n",
       "      <td>3</td>\n",
       "      <td>57700</td>\n",
       "    </tr>\n",
       "    <tr>\n",
       "      <th>1</th>\n",
       "      <td>2</td>\n",
       "      <td>0</td>\n",
       "      <td>12</td>\n",
       "      <td>8</td>\n",
       "      <td>4</td>\n",
       "      <td>76400</td>\n",
       "    </tr>\n",
       "    <tr>\n",
       "      <th>2</th>\n",
       "      <td>3</td>\n",
       "      <td>0</td>\n",
       "      <td>0</td>\n",
       "      <td>2</td>\n",
       "      <td>3</td>\n",
       "      <td>44000</td>\n",
       "    </tr>\n",
       "    <tr>\n",
       "      <th>3</th>\n",
       "      <td>4</td>\n",
       "      <td>1</td>\n",
       "      <td>2</td>\n",
       "      <td>1</td>\n",
       "      <td>3</td>\n",
       "      <td>41600</td>\n",
       "    </tr>\n",
       "    <tr>\n",
       "      <th>4</th>\n",
       "      <td>5</td>\n",
       "      <td>0</td>\n",
       "      <td>5</td>\n",
       "      <td>25</td>\n",
       "      <td>5</td>\n",
       "      <td>163900</td>\n",
       "    </tr>\n",
       "  </tbody>\n",
       "</table>\n",
       "</div>"
      ],
      "text/plain": [
       "   Empleado  Genero  Experiencia previa  Experiencia en la empresa  \\\n",
       "0         1       1                   5                         12   \n",
       "1         2       0                  12                          8   \n",
       "2         3       0                   0                          2   \n",
       "3         4       1                   2                          1   \n",
       "4         5       0                   5                         25   \n",
       "\n",
       "   Nivel educativo  Salario anual  \n",
       "0                3          57700  \n",
       "1                4          76400  \n",
       "2                3          44000  \n",
       "3                3          41600  \n",
       "4                5         163900  "
      ]
     },
     "execution_count": 3,
     "metadata": {},
     "output_type": "execute_result"
    }
   ],
   "source": [
    "#Mostrar las primeras filas\n",
    "datos.head()"
   ]
  },
  {
   "cell_type": "code",
   "execution_count": 6,
   "metadata": {},
   "outputs": [
    {
     "data": {
      "text/plain": [
       "(204, 6)"
      ]
     },
     "execution_count": 6,
     "metadata": {},
     "output_type": "execute_result"
    }
   ],
   "source": [
    "# Ver el tamaño de los datos\n",
    "datos.shape"
   ]
  },
  {
   "cell_type": "code",
   "execution_count": 7,
   "metadata": {},
   "outputs": [],
   "source": [
    "#Variable Y salario anual\n",
    "y = datos['Salario anual']"
   ]
  },
  {
   "cell_type": "code",
   "execution_count": 8,
   "metadata": {},
   "outputs": [
    {
     "data": {
      "text/plain": [
       "pandas.core.series.Series"
      ]
     },
     "execution_count": 8,
     "metadata": {},
     "output_type": "execute_result"
    }
   ],
   "source": [
    "#Ver el tipo de objeto que es Y\n",
    "type(y)"
   ]
  },
  {
   "cell_type": "code",
   "execution_count": 10,
   "metadata": {},
   "outputs": [
    {
     "name": "stdout",
     "output_type": "stream",
     "text": [
      "[ 57700  76400  44000  41600 163900  72700  60300  63500 131200  39200\n",
      "  62900  26200  74500  64800  21600  81900 115400  57800  55800  76100\n",
      " 135700 140400  55400  49700 134800  76900  28700  58800  43100  82400\n",
      "  80100  27000  58800 133100  53700  26700  81300  55400 139900  33200\n",
      "  75000 128200  76800  54200  32600  59200  74800  45500  46500 136300\n",
      "  86900  23900  52700  92700  59500  69400  46600  61700  88200  45000\n",
      "  52200  61400  87500 103700  54000 125100  45900  79300 108600  68200\n",
      "  65200  95600 103100 143500  78200  40200  60500  40500  73800  45300\n",
      "  61400  64800  75600  95800 126700  67000 102600  52000  76000  83000\n",
      "  80800  91100  30100  55700  51400  43800  25000  80600  39600  13400\n",
      "  88200 109100  34200  57800  68100  94900  63200  82700  85600  27100\n",
      "  69800  81300  78400 127300  93700  74400  48300  98900  73300 117300\n",
      "  37800  77400 111200  75300  96900 123600  55200  12400  73900  94100\n",
      "  74300  66900  12500  90200  59000 114700  71700 125500 100200  45400\n",
      "  72200  69500  67900  67500  31800  27800  60200  34500  87000  12500\n",
      " 122700  56200  56900  66000  76000  44100  78500  71800  80700  47800\n",
      " 105000 100700  18300 110600  36800  45500  71400  74300 160600  52500\n",
      "  65000 104500  85000 110200  80100  40000  55900  64600  68600  65100\n",
      " 111700  62000  55800  54600  37600  41200  49900  59400  65500  73200\n",
      "  30500  84800  95200  84900 102600  59000  44800  70500  83700 100000\n",
      "  39300  20400  74300 114500]\n"
     ]
    }
   ],
   "source": [
    "# Fijar el salario anual como \"Y\" y como un array \n",
    "y = datos['Salario anual'].values\n",
    "type(y)\n",
    "print(y)"
   ]
  },
  {
   "cell_type": "code",
   "execution_count": 11,
   "metadata": {},
   "outputs": [],
   "source": [
    "# Fijar el resto de variables como X y como un array  \n",
    "X1 = datos['Genero'].values\n",
    "X2 = datos['Experiencia previa'].values\n",
    "X3 = datos['Experiencia en la empresa'].values\n",
    "X4 = datos['Nivel educativo'].values"
   ]
  },
  {
   "cell_type": "code",
   "execution_count": 12,
   "metadata": {},
   "outputs": [
    {
     "data": {
      "text/html": [
       "<div>\n",
       "<style scoped>\n",
       "    .dataframe tbody tr th:only-of-type {\n",
       "        vertical-align: middle;\n",
       "    }\n",
       "\n",
       "    .dataframe tbody tr th {\n",
       "        vertical-align: top;\n",
       "    }\n",
       "\n",
       "    .dataframe thead th {\n",
       "        text-align: right;\n",
       "    }\n",
       "</style>\n",
       "<table border=\"1\" class=\"dataframe\">\n",
       "  <thead>\n",
       "    <tr style=\"text-align: right;\">\n",
       "      <th></th>\n",
       "      <th>Empleado</th>\n",
       "      <th>Genero</th>\n",
       "      <th>Experiencia previa</th>\n",
       "      <th>Experiencia en la empresa</th>\n",
       "      <th>Nivel educativo</th>\n",
       "      <th>Salario anual</th>\n",
       "    </tr>\n",
       "  </thead>\n",
       "  <tbody>\n",
       "    <tr>\n",
       "      <th>count</th>\n",
       "      <td>204.000000</td>\n",
       "      <td>204.000000</td>\n",
       "      <td>204.000000</td>\n",
       "      <td>204.000000</td>\n",
       "      <td>204.000000</td>\n",
       "      <td>204.000000</td>\n",
       "    </tr>\n",
       "    <tr>\n",
       "      <th>mean</th>\n",
       "      <td>102.500000</td>\n",
       "      <td>0.583333</td>\n",
       "      <td>6.269608</td>\n",
       "      <td>8.799020</td>\n",
       "      <td>3.147059</td>\n",
       "      <td>71274.509804</td>\n",
       "    </tr>\n",
       "    <tr>\n",
       "      <th>std</th>\n",
       "      <td>59.033889</td>\n",
       "      <td>0.494219</td>\n",
       "      <td>5.006484</td>\n",
       "      <td>6.208511</td>\n",
       "      <td>0.835152</td>\n",
       "      <td>30252.537039</td>\n",
       "    </tr>\n",
       "    <tr>\n",
       "      <th>min</th>\n",
       "      <td>1.000000</td>\n",
       "      <td>0.000000</td>\n",
       "      <td>0.000000</td>\n",
       "      <td>1.000000</td>\n",
       "      <td>1.000000</td>\n",
       "      <td>12400.000000</td>\n",
       "    </tr>\n",
       "    <tr>\n",
       "      <th>25%</th>\n",
       "      <td>51.750000</td>\n",
       "      <td>0.000000</td>\n",
       "      <td>2.000000</td>\n",
       "      <td>4.000000</td>\n",
       "      <td>3.000000</td>\n",
       "      <td>51850.000000</td>\n",
       "    </tr>\n",
       "    <tr>\n",
       "      <th>50%</th>\n",
       "      <td>102.500000</td>\n",
       "      <td>1.000000</td>\n",
       "      <td>5.000000</td>\n",
       "      <td>7.000000</td>\n",
       "      <td>3.000000</td>\n",
       "      <td>68400.000000</td>\n",
       "    </tr>\n",
       "    <tr>\n",
       "      <th>75%</th>\n",
       "      <td>153.250000</td>\n",
       "      <td>1.000000</td>\n",
       "      <td>10.000000</td>\n",
       "      <td>13.250000</td>\n",
       "      <td>4.000000</td>\n",
       "      <td>86925.000000</td>\n",
       "    </tr>\n",
       "    <tr>\n",
       "      <th>max</th>\n",
       "      <td>204.000000</td>\n",
       "      <td>1.000000</td>\n",
       "      <td>20.000000</td>\n",
       "      <td>25.000000</td>\n",
       "      <td>5.000000</td>\n",
       "      <td>163900.000000</td>\n",
       "    </tr>\n",
       "  </tbody>\n",
       "</table>\n",
       "</div>"
      ],
      "text/plain": [
       "         Empleado      Genero  Experiencia previa  Experiencia en la empresa  \\\n",
       "count  204.000000  204.000000          204.000000                 204.000000   \n",
       "mean   102.500000    0.583333            6.269608                   8.799020   \n",
       "std     59.033889    0.494219            5.006484                   6.208511   \n",
       "min      1.000000    0.000000            0.000000                   1.000000   \n",
       "25%     51.750000    0.000000            2.000000                   4.000000   \n",
       "50%    102.500000    1.000000            5.000000                   7.000000   \n",
       "75%    153.250000    1.000000           10.000000                  13.250000   \n",
       "max    204.000000    1.000000           20.000000                  25.000000   \n",
       "\n",
       "       Nivel educativo  Salario anual  \n",
       "count       204.000000     204.000000  \n",
       "mean          3.147059   71274.509804  \n",
       "std           0.835152   30252.537039  \n",
       "min           1.000000   12400.000000  \n",
       "25%           3.000000   51850.000000  \n",
       "50%           3.000000   68400.000000  \n",
       "75%           4.000000   86925.000000  \n",
       "max           5.000000  163900.000000  "
      ]
     },
     "execution_count": 12,
     "metadata": {},
     "output_type": "execute_result"
    }
   ],
   "source": [
    "# Caracterizar el conjunto de datos\n",
    "datos.describe()"
   ]
  },
  {
   "cell_type": "markdown",
   "metadata": {},
   "source": [
    "## Modelo 1: Salario anual vs. género"
   ]
  },
  {
   "cell_type": "code",
   "execution_count": 13,
   "metadata": {},
   "outputs": [],
   "source": [
    "# Asignar variable de entrada X para entrenamiento y las etiquetas Y\n",
    "X = X1.reshape(-1,1)\n",
    "y = y.reshape(-1,1)\n",
    "\n",
    "# Creamos el objeto de regresión lineal \n",
    "Modelo1 = LinearRegression()\n",
    "\n",
    "# Entrenamos el modelo\n",
    "Modelo1.fit(X,y)\n",
    "\n",
    "# Hacemos las predicciones\n",
    "SalarioPredictR1 = Modelo1.predict(X)"
   ]
  },
  {
   "cell_type": "code",
   "execution_count": 17,
   "metadata": {},
   "outputs": [
    {
     "name": "stdout",
     "output_type": "stream",
     "text": [
      "Coeficiente b0: [-12874.62184874]\n",
      "Intercepto b0: 78784.70588235294\n",
      "ECM: 870441754.9843466\n",
      "R2: 0.04423693643043958\n"
     ]
    }
   ],
   "source": [
    "# Imprimimos coeficiente (pendiente)\n",
    "print(f'Coeficiente b0: {Modelo1.coef_[0]}')\n",
    "# Imprimimos intercepto\n",
    "print(f'Intercepto b0: {Modelo1.intercept_[0]}')\n",
    "# Imprimimos error cuadrático medio \n",
    "print(f'ECM: {mean_squared_error(y, SalarioPredictR1)}')\n",
    "# Imprimimos el estadístico R^2\n",
    "print(f'R2: {r2_score(y, SalarioPredictR1)}')"
   ]
  },
  {
   "cell_type": "markdown",
   "metadata": {},
   "source": [
    "## Modelo 2: Salario vs. género, experiencia previa y experiencia actual"
   ]
  },
  {
   "cell_type": "code",
   "execution_count": 18,
   "metadata": {},
   "outputs": [
    {
     "data": {
      "text/html": [
       "<div>\n",
       "<style scoped>\n",
       "    .dataframe tbody tr th:only-of-type {\n",
       "        vertical-align: middle;\n",
       "    }\n",
       "\n",
       "    .dataframe tbody tr th {\n",
       "        vertical-align: top;\n",
       "    }\n",
       "\n",
       "    .dataframe thead th {\n",
       "        text-align: right;\n",
       "    }\n",
       "</style>\n",
       "<table border=\"1\" class=\"dataframe\">\n",
       "  <thead>\n",
       "    <tr style=\"text-align: right;\">\n",
       "      <th></th>\n",
       "      <th>Genero</th>\n",
       "      <th>Experiencia previa</th>\n",
       "      <th>Experiencia en la empresa</th>\n",
       "    </tr>\n",
       "  </thead>\n",
       "  <tbody>\n",
       "    <tr>\n",
       "      <th>0</th>\n",
       "      <td>1</td>\n",
       "      <td>5</td>\n",
       "      <td>12</td>\n",
       "    </tr>\n",
       "    <tr>\n",
       "      <th>1</th>\n",
       "      <td>0</td>\n",
       "      <td>12</td>\n",
       "      <td>8</td>\n",
       "    </tr>\n",
       "    <tr>\n",
       "      <th>2</th>\n",
       "      <td>0</td>\n",
       "      <td>0</td>\n",
       "      <td>2</td>\n",
       "    </tr>\n",
       "    <tr>\n",
       "      <th>3</th>\n",
       "      <td>1</td>\n",
       "      <td>2</td>\n",
       "      <td>1</td>\n",
       "    </tr>\n",
       "    <tr>\n",
       "      <th>4</th>\n",
       "      <td>0</td>\n",
       "      <td>5</td>\n",
       "      <td>25</td>\n",
       "    </tr>\n",
       "    <tr>\n",
       "      <th>...</th>\n",
       "      <td>...</td>\n",
       "      <td>...</td>\n",
       "      <td>...</td>\n",
       "    </tr>\n",
       "    <tr>\n",
       "      <th>199</th>\n",
       "      <td>1</td>\n",
       "      <td>10</td>\n",
       "      <td>18</td>\n",
       "    </tr>\n",
       "    <tr>\n",
       "      <th>200</th>\n",
       "      <td>1</td>\n",
       "      <td>2</td>\n",
       "      <td>4</td>\n",
       "    </tr>\n",
       "    <tr>\n",
       "      <th>201</th>\n",
       "      <td>1</td>\n",
       "      <td>0</td>\n",
       "      <td>7</td>\n",
       "    </tr>\n",
       "    <tr>\n",
       "      <th>202</th>\n",
       "      <td>0</td>\n",
       "      <td>0</td>\n",
       "      <td>12</td>\n",
       "    </tr>\n",
       "    <tr>\n",
       "      <th>203</th>\n",
       "      <td>0</td>\n",
       "      <td>11</td>\n",
       "      <td>19</td>\n",
       "    </tr>\n",
       "  </tbody>\n",
       "</table>\n",
       "<p>204 rows × 3 columns</p>\n",
       "</div>"
      ],
      "text/plain": [
       "     Genero  Experiencia previa  Experiencia en la empresa\n",
       "0         1                   5                         12\n",
       "1         0                  12                          8\n",
       "2         0                   0                          2\n",
       "3         1                   2                          1\n",
       "4         0                   5                         25\n",
       "..      ...                 ...                        ...\n",
       "199       1                  10                         18\n",
       "200       1                   2                          4\n",
       "201       1                   0                          7\n",
       "202       0                   0                         12\n",
       "203       0                  11                         19\n",
       "\n",
       "[204 rows x 3 columns]"
      ]
     },
     "execution_count": 18,
     "metadata": {},
     "output_type": "execute_result"
    }
   ],
   "source": [
    "# Asignar variable de entrada X para entrenamiento (ya se asignó Y antes)\n",
    "X1X2X3 = datos[['Genero','Experiencia previa','Experiencia en la empresa']]\n",
    "X1X2X3"
   ]
  },
  {
   "cell_type": "code",
   "execution_count": 19,
   "metadata": {},
   "outputs": [],
   "source": [
    "# Creamos el objeto de regresión lineal \n",
    "Modelo2 = LinearRegression()\n",
    "# Entrenamos el modelo\n",
    "Modelo2.fit(X1X2X3, y)\n",
    "# Hacemos las predicciones\n",
    "SalarioPredictR2 = Modelo2.predict(X1X2X3)"
   ]
  },
  {
   "cell_type": "code",
   "execution_count": 20,
   "metadata": {
    "scrolled": true
   },
   "outputs": [
    {
     "name": "stdout",
     "output_type": "stream",
     "text": [
      "Coeficientes b: [-8975.28555537  3308.42059371  2708.24124602]\n",
      "Intercepto b0: 31937.72551536293\n",
      "ECM: 213330550.65163794\n",
      "R2: 0.7657586398213888\n"
     ]
    }
   ],
   "source": [
    "# Imprimimos coeficiente \n",
    "print(f'Coeficientes b: {Modelo2.coef_[0]}')\n",
    "# Imprimimos intercepto\n",
    "print(f'Intercepto b0: {Modelo2.intercept_[0]}')\n",
    "# Imprimimos error cuadrático medio \n",
    "print(f'ECM: {mean_squared_error(y, SalarioPredictR2)}')\n",
    "# Imprimimos el estadístico R^2\n",
    "print(f'R2: {r2_score(y, SalarioPredictR2)}')"
   ]
  },
  {
   "cell_type": "markdown",
   "metadata": {},
   "source": [
    "## Modelo 3: Salario vs. género, , experiencia previa,  experiencia actual y nivel educativo"
   ]
  },
  {
   "cell_type": "code",
   "execution_count": 21,
   "metadata": {},
   "outputs": [
    {
     "name": "stdout",
     "output_type": "stream",
     "text": [
      "     2  3  4  5\n",
      "0    0  1  0  0\n",
      "1    0  0  1  0\n",
      "2    0  1  0  0\n",
      "3    0  1  0  0\n",
      "4    0  0  0  1\n",
      "..  .. .. .. ..\n",
      "199  0  1  0  0\n",
      "200  0  1  0  0\n",
      "201  1  0  0  0\n",
      "202  0  0  1  0\n",
      "203  0  1  0  0\n",
      "\n",
      "[204 rows x 4 columns]\n"
     ]
    }
   ],
   "source": [
    "#Volvemos el nivel educativo una variable binaria\n",
    "X4dummy = pd.get_dummies(X4, drop_first=True)\n",
    "print(X4dummy)"
   ]
  },
  {
   "cell_type": "code",
   "execution_count": 22,
   "metadata": {},
   "outputs": [
    {
     "data": {
      "text/html": [
       "<div>\n",
       "<style scoped>\n",
       "    .dataframe tbody tr th:only-of-type {\n",
       "        vertical-align: middle;\n",
       "    }\n",
       "\n",
       "    .dataframe tbody tr th {\n",
       "        vertical-align: top;\n",
       "    }\n",
       "\n",
       "    .dataframe thead th {\n",
       "        text-align: right;\n",
       "    }\n",
       "</style>\n",
       "<table border=\"1\" class=\"dataframe\">\n",
       "  <thead>\n",
       "    <tr style=\"text-align: right;\">\n",
       "      <th></th>\n",
       "      <th>Genero</th>\n",
       "      <th>Experiencia previa</th>\n",
       "      <th>Experiencia en la empresa</th>\n",
       "      <th>2</th>\n",
       "      <th>3</th>\n",
       "      <th>4</th>\n",
       "      <th>5</th>\n",
       "    </tr>\n",
       "  </thead>\n",
       "  <tbody>\n",
       "    <tr>\n",
       "      <th>0</th>\n",
       "      <td>1</td>\n",
       "      <td>5</td>\n",
       "      <td>12</td>\n",
       "      <td>0</td>\n",
       "      <td>1</td>\n",
       "      <td>0</td>\n",
       "      <td>0</td>\n",
       "    </tr>\n",
       "    <tr>\n",
       "      <th>1</th>\n",
       "      <td>0</td>\n",
       "      <td>12</td>\n",
       "      <td>8</td>\n",
       "      <td>0</td>\n",
       "      <td>0</td>\n",
       "      <td>1</td>\n",
       "      <td>0</td>\n",
       "    </tr>\n",
       "    <tr>\n",
       "      <th>2</th>\n",
       "      <td>0</td>\n",
       "      <td>0</td>\n",
       "      <td>2</td>\n",
       "      <td>0</td>\n",
       "      <td>1</td>\n",
       "      <td>0</td>\n",
       "      <td>0</td>\n",
       "    </tr>\n",
       "    <tr>\n",
       "      <th>3</th>\n",
       "      <td>1</td>\n",
       "      <td>2</td>\n",
       "      <td>1</td>\n",
       "      <td>0</td>\n",
       "      <td>1</td>\n",
       "      <td>0</td>\n",
       "      <td>0</td>\n",
       "    </tr>\n",
       "    <tr>\n",
       "      <th>4</th>\n",
       "      <td>0</td>\n",
       "      <td>5</td>\n",
       "      <td>25</td>\n",
       "      <td>0</td>\n",
       "      <td>0</td>\n",
       "      <td>0</td>\n",
       "      <td>1</td>\n",
       "    </tr>\n",
       "    <tr>\n",
       "      <th>...</th>\n",
       "      <td>...</td>\n",
       "      <td>...</td>\n",
       "      <td>...</td>\n",
       "      <td>...</td>\n",
       "      <td>...</td>\n",
       "      <td>...</td>\n",
       "      <td>...</td>\n",
       "    </tr>\n",
       "    <tr>\n",
       "      <th>199</th>\n",
       "      <td>1</td>\n",
       "      <td>10</td>\n",
       "      <td>18</td>\n",
       "      <td>0</td>\n",
       "      <td>1</td>\n",
       "      <td>0</td>\n",
       "      <td>0</td>\n",
       "    </tr>\n",
       "    <tr>\n",
       "      <th>200</th>\n",
       "      <td>1</td>\n",
       "      <td>2</td>\n",
       "      <td>4</td>\n",
       "      <td>0</td>\n",
       "      <td>1</td>\n",
       "      <td>0</td>\n",
       "      <td>0</td>\n",
       "    </tr>\n",
       "    <tr>\n",
       "      <th>201</th>\n",
       "      <td>1</td>\n",
       "      <td>0</td>\n",
       "      <td>7</td>\n",
       "      <td>1</td>\n",
       "      <td>0</td>\n",
       "      <td>0</td>\n",
       "      <td>0</td>\n",
       "    </tr>\n",
       "    <tr>\n",
       "      <th>202</th>\n",
       "      <td>0</td>\n",
       "      <td>0</td>\n",
       "      <td>12</td>\n",
       "      <td>0</td>\n",
       "      <td>0</td>\n",
       "      <td>1</td>\n",
       "      <td>0</td>\n",
       "    </tr>\n",
       "    <tr>\n",
       "      <th>203</th>\n",
       "      <td>0</td>\n",
       "      <td>11</td>\n",
       "      <td>19</td>\n",
       "      <td>0</td>\n",
       "      <td>1</td>\n",
       "      <td>0</td>\n",
       "      <td>0</td>\n",
       "    </tr>\n",
       "  </tbody>\n",
       "</table>\n",
       "<p>204 rows × 7 columns</p>\n",
       "</div>"
      ],
      "text/plain": [
       "     Genero  Experiencia previa  Experiencia en la empresa  2  3  4  5\n",
       "0         1                   5                         12  0  1  0  0\n",
       "1         0                  12                          8  0  0  1  0\n",
       "2         0                   0                          2  0  1  0  0\n",
       "3         1                   2                          1  0  1  0  0\n",
       "4         0                   5                         25  0  0  0  1\n",
       "..      ...                 ...                        ... .. .. .. ..\n",
       "199       1                  10                         18  0  1  0  0\n",
       "200       1                   2                          4  0  1  0  0\n",
       "201       1                   0                          7  1  0  0  0\n",
       "202       0                   0                         12  0  0  1  0\n",
       "203       0                  11                         19  0  1  0  0\n",
       "\n",
       "[204 rows x 7 columns]"
      ]
     },
     "execution_count": 22,
     "metadata": {},
     "output_type": "execute_result"
    }
   ],
   "source": [
    "# Asignar variable de entrada X para entrenamiento, hay que concatenar las anteriores X y X4 (ya se asignó Y antes)\n",
    "X1X2X3X4 = pd.concat([X1X2X3, X4dummy], axis=1)\n",
    "X1X2X3X4"
   ]
  },
  {
   "cell_type": "code",
   "execution_count": 26,
   "metadata": {},
   "outputs": [],
   "source": [
    "# Creamos el objeto de regresión lineal \n",
    "Modelo3 = LinearRegression()\n",
    "# Entrenamos el modelo\n",
    "Modelo3.fit(X1X2X3X4, y)\n",
    "# Hacemos las predicciones\n",
    "SalarioPredictR3 = Modelo3.predict(X1X2X3X4)"
   ]
  },
  {
   "cell_type": "code",
   "execution_count": 27,
   "metadata": {},
   "outputs": [
    {
     "name": "stdout",
     "output_type": "stream",
     "text": [
      "Coeficientes b: [-8202.55713738  2926.53777344  2593.65751706 -5978.84281652\n",
      " 14511.86854384 25984.40502824 64490.08190264]\n",
      "Intercepto b0: 17924.338144105583\n",
      "ECM: 31736966.016861457\n",
      "R2: 0.9651521544147155\n"
     ]
    }
   ],
   "source": [
    "# Imprimimos coeficiente \n",
    "print(f'Coeficientes b: {Modelo3.coef_[0]}')\n",
    "# Imprimimos intercepto\n",
    "print(f'Intercepto b0: {Modelo3.intercept_[0]}')\n",
    "# Imprimimos error cuadrático medio \n",
    "print(f'ECM: {mean_squared_error(y, SalarioPredictR3)}')\n",
    "# Imprimimos el estadístico R^2\n",
    "print(f'R2: {r2_score(y, SalarioPredictR3)}')"
   ]
  }
 ],
 "metadata": {
  "kernelspec": {
   "display_name": "Python 3 (ipykernel)",
   "language": "python",
   "name": "python3"
  },
  "language_info": {
   "codemirror_mode": {
    "name": "ipython",
    "version": 3
   },
   "file_extension": ".py",
   "mimetype": "text/x-python",
   "name": "python",
   "nbconvert_exporter": "python",
   "pygments_lexer": "ipython3",
   "version": "3.8.5"
  }
 },
 "nbformat": 4,
 "nbformat_minor": 4
}
